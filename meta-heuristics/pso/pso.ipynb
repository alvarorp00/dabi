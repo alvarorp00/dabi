{
 "cells": [
  {
   "cell_type": "code",
   "execution_count": 1,
   "metadata": {},
   "outputs": [],
   "source": [
    "from typing import List\n",
    "import numpy as np\n",
    "import tensorflow as tf\n",
    "import tensorflow_probability as tfp\n",
    "import scipy.stats as st\n",
    "import matplotlib.pyplot as plt"
   ]
  },
  {
   "cell_type": "code",
   "execution_count": 17,
   "metadata": {},
   "outputs": [],
   "source": [
    "N_DIMS = 2\n",
    "N_PARTICLES = 10**3\n",
    "STEPS = 10**3\n",
    "LOW, HIGH = -4.5, 4.5\n",
    "MIN_VEL, MAX_VEL = 0, 10\n",
    "\n",
    "def sphere(vector):\n",
    "    return np.sum(np.power(vector, 2))\n",
    "    \n",
    "def rastrigin(vector):\n",
    "    A = 10\n",
    "    return A + np.sum(np.power(vector, 2) - A * np.cos(2*np.math.pi*vector))\n",
    "\n",
    "def rosenbrock(vector):\n",
    "    return np.power(np.math.e, -np.sum(np.array([(100*(vector[i+1]-vector[i]**2)**2 + (1-vector[i])**2)/20 for i in range(len(vector) - 1)])))\n",
    "\n",
    "target_func = lambda vector: rastrigin(vector)"
   ]
  },
  {
   "cell_type": "code",
   "execution_count": 18,
   "metadata": {},
   "outputs": [],
   "source": [
    "class Particle():\n",
    "    def __init__(self, calc_objective=True):\n",
    "        self.velocity=np.random.uniform(low=MIN_VEL, high=MAX_VEL, size=N_DIMS)\n",
    "        self.position=np.random.uniform(low=LOW, high=HIGH, size=N_DIMS)\n",
    "        self.local_best_position=self.position\n",
    "        self.local_best_value=objective_function(self.local_best_position) if calc_objective else 0\n",
    "        self.position_trace=np.empty(shape=(STEPS, N_DIMS))\n",
    "        self.velocity_trace=np.empty(shape=(STEPS, N_DIMS))\n",
    "\n",
    "def initialize():\n",
    "    particles = [Particle() for _ in np.arange(0, N_PARTICLES)]\n",
    "    return particles\n",
    "\n",
    "def valid_pos(position):\n",
    "    for pos in position:\n",
    "        if pos < LOW or pos > HIGH:\n",
    "            return False\n",
    "    return True\n",
    "\n",
    "def fix_position(position):\n",
    "    fixed_pos = []\n",
    "    for pos in position:\n",
    "        if pos < LOW:\n",
    "            fixed_pos.append(LOW)\n",
    "        elif pos > HIGH:\n",
    "            fixed_pos.append(HIGH)\n",
    "        else:\n",
    "            fixed_pos.append(pos)\n",
    "    return np.float32(np.array(fixed_pos))\n",
    "\n",
    "def objective_function(position):\n",
    "    if valid_pos(position) is False:\n",
    "        return np.finfo(np.float32).min\n",
    "    return target_func(vector=position)\n",
    "\n",
    "def pso(particles: List[Particle]):\n",
    "    \"\"\"\n",
    "    Returns local_bests & global_best\n",
    "    (particles, local_bests) -> (local_bests, global_best)\n",
    "    \"\"\"\n",
    "    inertia_weight = st.norm(loc=1, scale=.5).rvs(size=1)\n",
    "    c1, c2 = st.norm(loc=2, scale=.5).rvs(size=2)\n",
    "\n",
    "    swarm_best_position = particles[0].local_best_position\n",
    "\n",
    "    for i in np.arange(1, len(particles)):\n",
    "        if objective_function(swarm_best_position) > objective_function(particles[i].local_best_position):\n",
    "            swarm_best_position = particles[i].local_best_position\n",
    "    \n",
    "    for i in np.arange(STEPS):\n",
    "        for j in np.arange(N_PARTICLES):\n",
    "            particles[j].velocity = inertia_weight * particles[j].velocity +\\\n",
    "                c1*np.random.random()*(particles[j].local_best_position - particles[j].position) +\\\n",
    "                    c2*np.random.random()*(swarm_best_position - particles[j].position)\n",
    "\n",
    "            _position = particles[j].position\n",
    "            _velocity = particles[j].velocity\n",
    "\n",
    "            particles[j].position += particles[j].velocity\n",
    "            particles[j].position = np.float32(fix_position(particles[j].position))\n",
    "\n",
    "            candidate = objective_function(particles[j].position)\n",
    "\n",
    "            if candidate > objective_function(particles[j].local_best_position):\n",
    "                particles[j].local_best_position = particles[j].position\n",
    "            \n",
    "            if objective_function(particles[j].local_best_position) > objective_function(swarm_best_position):\n",
    "                swarm_best_position = particles[j].local_best_position\n",
    "\n",
    "            particles[j].position_trace[i] = particles[j].position\n",
    "            particles[j].velocity_trace[i] = particles[j].velocity\n",
    "\n",
    "    return swarm_best_position, particles"
   ]
  },
  {
   "cell_type": "code",
   "execution_count": 19,
   "metadata": {},
   "outputs": [
    {
     "name": "stdout",
     "output_type": "stream",
     "text": [
      "Swarm Best: -> [4.5 4.5]\n",
      "====================\n",
      "Best Unique Locals: \n",
      " [[4.5 4.5]]\n"
     ]
    }
   ],
   "source": [
    "particles = initialize()\n",
    "swarm_best_position, particles = pso(particles=particles)\n",
    "print(f\"Swarm Best: -> {swarm_best_position}\")\n",
    "best_locals = np.array([particle.local_best_position for particle in particles])\n",
    "best_unique_locals = np.unique(best_locals, axis=0)\n",
    "print(\"====================\")\n",
    "print(f\"Best Unique Locals: \\n {best_unique_locals}\")\n",
    "# for particle in particles:\n",
    "#     print(f\"\\t -> {particle.local_best_position}\")\n",
    "pass"
   ]
  },
  {
   "cell_type": "code",
   "execution_count": null,
   "metadata": {},
   "outputs": [],
   "source": []
  }
 ],
 "metadata": {
  "kernelspec": {
   "display_name": "Python 3.9.10 ('sim_env')",
   "language": "python",
   "name": "python3"
  },
  "language_info": {
   "codemirror_mode": {
    "name": "ipython",
    "version": 3
   },
   "file_extension": ".py",
   "mimetype": "text/x-python",
   "name": "python",
   "nbconvert_exporter": "python",
   "pygments_lexer": "ipython3",
   "version": "3.9.10"
  },
  "orig_nbformat": 4,
  "vscode": {
   "interpreter": {
    "hash": "04568d7bb98e0b42d10e61b0bc9181c71e46b74c7b423ebb7d060f04cde0f5d0"
   }
  }
 },
 "nbformat": 4,
 "nbformat_minor": 2
}
