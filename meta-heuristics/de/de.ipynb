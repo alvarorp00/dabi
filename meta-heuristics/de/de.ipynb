{
 "cells": [
  {
   "cell_type": "code",
   "execution_count": 1,
   "metadata": {},
   "outputs": [],
   "source": [
    "import numpy as np\n",
    "import scipy.stats as st\n",
    "import logging\n",
    "from enum import Enum\n",
    "from typing import List"
   ]
  },
  {
   "cell_type": "code",
   "execution_count": 2,
   "metadata": {},
   "outputs": [],
   "source": [
    "# Configuration of the simulation\n",
    "# N_DIMS = 2\n",
    "# N_AGENTS = 10**3\n",
    "# STEPS = 5 * 10**3\n",
    "# LOW, HIGH = -25, 25\n",
    "# MIN_VEL, MAX_VEL = -5, 5\n",
    "\n",
    "# Test functions --> change target_func for using each of them\n",
    "\n",
    "def sphere(vector):\n",
    "    return np.sum(np.power(vector, 2))\n",
    "    \n",
    "def rastrigin(vector, A=10):\n",
    "    return A + np.sum(np.power(vector, 2) - A * np.cos(2*np.math.pi*vector))\n",
    "\n",
    "def rosenbrock(vector, A=100, B=20):\n",
    "    return np.math.exp(-np.sum(np.array([(A*(vector[i+1]-vector[i]**2)**2 + (1-vector[i])**2)/B for i in range(len(vector) - 1)])))\n",
    "\n",
    "target_func = lambda vector: sphere(vector)  # OBJECTIVE FUNCTION USED BY PARTICLES"
   ]
  },
  {
   "cell_type": "code",
   "execution_count": null,
   "metadata": {},
   "outputs": [],
   "source": []
  }
 ],
 "metadata": {
  "kernelspec": {
   "display_name": "Python 3.9.10 ('sim_env')",
   "language": "python",
   "name": "python3"
  },
  "language_info": {
   "codemirror_mode": {
    "name": "ipython",
    "version": 3
   },
   "file_extension": ".py",
   "mimetype": "text/x-python",
   "name": "python",
   "nbconvert_exporter": "python",
   "pygments_lexer": "ipython3",
   "version": "3.9.10"
  },
  "orig_nbformat": 4,
  "vscode": {
   "interpreter": {
    "hash": "04568d7bb98e0b42d10e61b0bc9181c71e46b74c7b423ebb7d060f04cde0f5d0"
   }
  }
 },
 "nbformat": 4,
 "nbformat_minor": 2
}
