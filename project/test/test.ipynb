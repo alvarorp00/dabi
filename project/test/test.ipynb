{
 "cells": [
  {
   "cell_type": "code",
   "execution_count": 1,
   "metadata": {},
   "outputs": [],
   "source": [
    "import sys\n",
    "\n",
    "sys.path.append('../')\n",
    "\n",
    "# from metaheuristics import DifferentialEvolution\n",
    "from src.metaheuristics import DifferentialEvolution\n",
    "import src.macros as macros\n",
    "import src.utils as utils\n",
    "\n",
    "import src.synergy as synergy\n",
    "\n",
    "import numpy as np"
   ]
  },
  {
   "cell_type": "code",
   "execution_count": null,
   "metadata": {},
   "outputs": [],
   "source": [
    "# Initialize population\n",
    "\n",
    "search: utils.Search = macros.search\n",
    "space: utils.SearchSpace = search.space\n",
    "\n",
    "population = [\n",
    "    utils.Agent(i, space.random_bounded(macros.dimensions), search=macros.search) for i in range(macros.population_size)\n",
    "]\n",
    "\n",
    "# Initialize differential evolution\n",
    "\n",
    "crossover_rate = 0.5\n",
    "differential_weight = 0.5\n",
    "\n",
    "params = {\n",
    "    'agents': population,\n",
    "    'population_size': macros.population_size,\n",
    "    'diff_weight': differential_weight,\n",
    "    'crossover_rate': crossover_rate\n",
    "}\n",
    "\n",
    "de = DifferentialEvolution(\n",
    "    search=macros.search,\n",
    "    **params\n",
    ")"
   ]
  },
  {
   "cell_type": "code",
   "execution_count": null,
   "metadata": {},
   "outputs": [],
   "source": [
    "for _ in range(0, macros.iterations):\n",
    "    de.optimize()\n",
    "\n",
    "print(de.best_agent)\n",
    "print(np.max(np.array([a.fitness for a in de.agents])))"
   ]
  },
  {
   "cell_type": "code",
   "execution_count": 2,
   "metadata": {},
   "outputs": [],
   "source": [
    "def new_differential_evolution():\n",
    "    \"\"\"\n",
    "    Instantiates a new Differential Evolution algorithm with a random population.\n",
    "    \"\"\"\n",
    "    search: utils.Search = macros.search\n",
    "    space: utils.SearchSpace = search.space\n",
    "\n",
    "    population = [\n",
    "        utils.Agent(i, space.random_bounded(macros.dimensions), search=macros.search) for i in range(macros.population_size)\n",
    "    ]\n",
    "\n",
    "    # Initialize differential evolution\n",
    "\n",
    "    crossover_rate = np.random.uniform(low=0, high=1)\n",
    "    differential_weight = np.random.uniform(low=0, high=1)\n",
    "\n",
    "    params = {\n",
    "        'agents': population,\n",
    "        'population_size': macros.population_size,\n",
    "        'diff_weight': differential_weight,\n",
    "        'crossover_rate': crossover_rate\n",
    "    }\n",
    "\n",
    "    de = DifferentialEvolution(\n",
    "        search=macros.search,\n",
    "        **params\n",
    "    )\n",
    "\n",
    "    return de"
   ]
  },
  {
   "cell_type": "code",
   "execution_count": 3,
   "metadata": {},
   "outputs": [],
   "source": [
    "ms = [new_differential_evolution() for _ in range(0, 10)]  # 10 metaheuristics to be combined of DE\n",
    "\n",
    "params = {\n",
    "    'iterations': macros.iterations\n",
    "}\n",
    "\n",
    "synergy_boost = synergy.SynergyBoost(metaheuristics=ms, search=macros.search, **params)"
   ]
  },
  {
   "cell_type": "code",
   "execution_count": 4,
   "metadata": {},
   "outputs": [
    {
     "name": "stdout",
     "output_type": "stream",
     "text": [
      "Best agent: Agent 5 @ Fitness: 70.70658038767792 @ Position: [-4.52299366 -4.52299366]\n"
     ]
    }
   ],
   "source": [
    "synergy_boost.optimize()\n",
    "print(f'Best agent: {synergy_boost.best_agent} @ Fitness: {synergy_boost.best_agent.fitness} @ Position: {synergy_boost.best_agent.position}')"
   ]
  },
  {
   "cell_type": "code",
   "execution_count": null,
   "metadata": {},
   "outputs": [],
   "source": []
  }
 ],
 "metadata": {
  "kernelspec": {
   "display_name": "sim_env",
   "language": "python",
   "name": "python3"
  },
  "language_info": {
   "codemirror_mode": {
    "name": "ipython",
    "version": 3
   },
   "file_extension": ".py",
   "mimetype": "text/x-python",
   "name": "python",
   "nbconvert_exporter": "python",
   "pygments_lexer": "ipython3",
   "version": "3.9.10"
  },
  "orig_nbformat": 4,
  "vscode": {
   "interpreter": {
    "hash": "04568d7bb98e0b42d10e61b0bc9181c71e46b74c7b423ebb7d060f04cde0f5d0"
   }
  }
 },
 "nbformat": 4,
 "nbformat_minor": 2
}
