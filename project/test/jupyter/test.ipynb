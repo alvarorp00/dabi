{
 "cells": [
  {
   "attachments": {},
   "cell_type": "markdown",
   "metadata": {},
   "source": [
    "## Info\n",
    "\n",
    "This file is just for testing random things, shouldn't be taken into account"
   ]
  },
  {
   "cell_type": "code",
   "execution_count": null,
   "metadata": {},
   "outputs": [],
   "source": [
    "import sys\n",
    "\n",
    "sys.path.append('../')\n",
    "\n",
    "# from metaheuristics import DifferentialEvolution\n",
    "import src.config as config\n",
    "import src.utils as utils\n",
    "import src.agents as agents\n",
    "# from src.metaheuristics import DifferentialEvolution\n",
    "\n",
    "import src.synergy as synergy\n",
    "\n",
    "import numpy as np"
   ]
  },
  {
   "cell_type": "code",
   "execution_count": null,
   "metadata": {},
   "outputs": [],
   "source": [
    "# Initialize population\n",
    "\n",
    "search: utils.Search = config.search\n",
    "space: utils.SearchSpace = search.space\n",
    "\n",
    "population = [\n",
    "    utils.Agent(i, space.random_bounded(config.dimensions), search=config.search) for i in range(config.population_size)\n",
    "]\n",
    "\n",
    "# Initialize differential evolution\n",
    "\n",
    "crossover_rate = 0.5\n",
    "differential_weight = 0.5\n",
    "\n",
    "params = {\n",
    "    'agents': population,\n",
    "    'population_size': config.population_size,\n",
    "    'diff_weight': differential_weight,\n",
    "    'crossover_rate': crossover_rate\n",
    "}\n",
    "\n",
    "de = DifferentialEvolution(\n",
    "    search=config.search,\n",
    "    **params\n",
    ")"
   ]
  },
  {
   "cell_type": "code",
   "execution_count": null,
   "metadata": {},
   "outputs": [],
   "source": [
    "for _ in range(0, config.iterations):\n",
    "    de.optimize()\n",
    "\n",
    "print(de.best_agent)\n",
    "print(np.max(np.array([a.fitness for a in de.agents])))"
   ]
  },
  {
   "cell_type": "code",
   "execution_count": null,
   "metadata": {},
   "outputs": [],
   "source": [
    "def new_differential_evolution():\n",
    "    \"\"\"\n",
    "    Instantiates a new Differential Evolution algorithm with a random population.\n",
    "    \"\"\"\n",
    "    search: utils.Search = config.search\n",
    "    space: utils.SearchSpace = search.space\n",
    "\n",
    "    population = [\n",
    "        utils.Agent(i, space.random_bounded(config.dimensions), search=config.search) for i in range(config.population_size)\n",
    "    ]\n",
    "\n",
    "    # Initialize differential evolution\n",
    "\n",
    "    crossover_rate = np.random.uniform(low=0, high=1)\n",
    "    differential_weight = np.random.uniform(low=0, high=1)\n",
    "\n",
    "    params = {\n",
    "        'agents': population,\n",
    "        'population_size': config.population_size,\n",
    "        'diff_weight': differential_weight,\n",
    "        'crossover_rate': crossover_rate\n",
    "    }\n",
    "\n",
    "    de = DifferentialEvolution(\n",
    "        search=config.search,\n",
    "        **params\n",
    "    )\n",
    "\n",
    "    return de"
   ]
  },
  {
   "cell_type": "code",
   "execution_count": null,
   "metadata": {},
   "outputs": [],
   "source": [
    "ms = [new_differential_evolution() for _ in range(0, 10)]  # 10 metaheuristics to be combined of DE\n",
    "\n",
    "params = {\n",
    "    'iterations': config.iterations\n",
    "}\n",
    "\n",
    "synergy_boost = synergy.SynergyBoost(metaheuristics=ms, search=config.search, **params)"
   ]
  },
  {
   "cell_type": "code",
   "execution_count": null,
   "metadata": {},
   "outputs": [],
   "source": [
    "synergy_boost.optimize()\n",
    "print(f'Best agent: {synergy_boost.best_agent} @ Fitness: {synergy_boost.best_agent.fitness} @ Position: {synergy_boost.best_agent.position}')"
   ]
  },
  {
   "cell_type": "code",
   "execution_count": 1,
   "metadata": {},
   "outputs": [],
   "source": [
    "import scipy.stats as st\n",
    "import numpy as np\n",
    "import matplotlib.pyplot as plt"
   ]
  },
  {
   "cell_type": "code",
   "execution_count": 12,
   "metadata": {},
   "outputs": [
    {
     "data": {
      "text/plain": [
       "[<matplotlib.lines.Line2D at 0x7f7f6e176f40>]"
      ]
     },
     "execution_count": 12,
     "metadata": {},
     "output_type": "execute_result"
    },
    {
     "data": {
      "image/png": "[encoded data removed]",
      "text/plain": [
       "<Figure size 432x288 with 1 Axes>"
      ]
     },
     "metadata": {
      "needs_background": "light"
     },
     "output_type": "display_data"
    }
   ],
   "source": [
    "x = np.linspace(st.expon.ppf(.01), st.expon.ppf(.99), 100)\n",
    "plt.plot(x, st.expon.pdf(x), 'r-', lw=5, alpha=0.6, label='expon pdf')"
   ]
  },
  {
   "cell_type": "code",
   "execution_count": 20,
   "metadata": {},
   "outputs": [
    {
     "data": {
      "image/png": "[encoded data removed]",
      "text/plain": [
       "<Figure size 432x288 with 1 Axes>"
      ]
     },
     "metadata": {
      "needs_background": "light"
     },
     "output_type": "display_data"
    }
   ],
   "source": [
    "# Gather random samples from the distribution\n",
    "x = st.expon.rvs(size=1000)\n",
    "# Plot the histogram\n",
    "plt.hist(x, bins=100, density=True, histtype='stepfilled', alpha=0.2)\n",
    "plt.show()\n",
    "pass"
   ]
  },
  {
   "cell_type": "code",
   "execution_count": 23,
   "metadata": {},
   "outputs": [
    {
     "name": "stdout",
     "output_type": "stream",
     "text": [
      "1.0\n"
     ]
    }
   ],
   "source": [
    "# Gather random samples from the distribution\n",
    "x = st.expon.rvs(size=100)\n",
    "\n",
    "# Retrieve probs of the sample by\n",
    "# calculating the probability of each\n",
    "probs = st.expon.pdf(x)\n",
    "\n",
    "# Normalize the probs\n",
    "probs = np.nan_to_num(probs / np.sum(probs))\n",
    "\n",
    "# Check they add up to 1\n",
    "print(np.sum(probs))"
   ]
  },
  {
   "cell_type": "code",
   "execution_count": 5,
   "metadata": {},
   "outputs": [
    {
     "name": "stdout",
     "output_type": "stream",
     "text": [
      "me\n"
     ]
    }
   ],
   "source": [
    "class Foo1():\n",
    "    def __init__(self, *args, **kwargs) -> None:\n",
    "        print(kwargs['owner'])\n",
    "\n",
    "class Foo2(Foo1):\n",
    "    def __init__(self, *args, **kwargs) -> None:\n",
    "        super().__init__(*args, **kwargs)\n",
    "\n",
    "foo = Foo2(owner='me')"
   ]
  },
  {
   "cell_type": "code",
   "execution_count": null,
   "metadata": {},
   "outputs": [],
   "source": []
  }
 ],
 "metadata": {
  "kernelspec": {
   "display_name": "sim_env",
   "language": "python",
   "name": "python3"
  },
  "language_info": {
   "codemirror_mode": {
    "name": "ipython",
    "version": 3
   },
   "file_extension": ".py",
   "mimetype": "text/x-python",
   "name": "python",
   "nbconvert_exporter": "python",
   "pygments_lexer": "ipython3",
   "version": "3.9.10 | packaged by conda-forge | (main, Feb  1 2022, 21:24:11) \n[GCC 9.4.0]"
  },
  "orig_nbformat": 4,
  "vscode": {
   "interpreter": {
    "hash": "04568d7bb98e0b42d10e61b0bc9181c71e46b74c7b423ebb7d060f04cde0f5d0"
   }
  }
 },
 "nbformat": 4,
 "nbformat_minor": 2
}
